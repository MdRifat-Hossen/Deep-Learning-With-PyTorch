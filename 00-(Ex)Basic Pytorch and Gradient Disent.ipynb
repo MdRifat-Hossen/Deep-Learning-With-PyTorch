{
 "cells": [
  {
   "cell_type": "code",
   "execution_count": 1,
   "id": "39505691-c05f-4f19-be4e-36da4c5f608a",
   "metadata": {},
   "outputs": [],
   "source": [
    "import torch"
   ]
  },
  {
   "cell_type": "code",
   "execution_count": 2,
   "id": "b748fe08-9716-4c66-a160-747c99578bb7",
   "metadata": {},
   "outputs": [],
   "source": [
    "t1=torch.tensor(4.)"
   ]
  },
  {
   "cell_type": "code",
   "execution_count": 3,
   "id": "88f63a76-a948-4a57-990b-1841100548af",
   "metadata": {},
   "outputs": [
    {
     "data": {
      "text/plain": [
       "tensor(4.)"
      ]
     },
     "execution_count": 3,
     "metadata": {},
     "output_type": "execute_result"
    }
   ],
   "source": [
    "t1"
   ]
  },
  {
   "cell_type": "code",
   "execution_count": 4,
   "id": "48f36e89-ed91-43f1-87b5-d394c22309d6",
   "metadata": {},
   "outputs": [
    {
     "data": {
      "text/plain": [
       "torch.float32"
      ]
     },
     "execution_count": 4,
     "metadata": {},
     "output_type": "execute_result"
    }
   ],
   "source": [
    "t1.dtype"
   ]
  },
  {
   "cell_type": "code",
   "execution_count": 5,
   "id": "32716221-40d1-44f9-9dcf-ce001dc91edc",
   "metadata": {},
   "outputs": [
    {
     "data": {
      "text/plain": [
       "tensor([[ 5.,  6.],\n",
       "        [ 7.,  8.],\n",
       "        [ 9., 10.]])"
      ]
     },
     "execution_count": 5,
     "metadata": {},
     "output_type": "execute_result"
    }
   ],
   "source": [
    "t2=torch.tensor([[5.,6],\n",
    "                [7,8],\n",
    "                [9,10]])\n",
    "t2"
   ]
  },
  {
   "cell_type": "code",
   "execution_count": 6,
   "id": "0522c819-0376-4f87-8ea8-3923167a8d1c",
   "metadata": {},
   "outputs": [
    {
     "data": {
      "text/plain": [
       "torch.Size([3, 2])"
      ]
     },
     "execution_count": 6,
     "metadata": {},
     "output_type": "execute_result"
    }
   ],
   "source": [
    "t2.shape"
   ]
  },
  {
   "cell_type": "markdown",
   "id": "620e1bfa-1332-4b5c-ac2e-57b89abd2fd4",
   "metadata": {},
   "source": [
    "Tensor and Gradient desent Creations "
   ]
  },
  {
   "cell_type": "code",
   "execution_count": 7,
   "id": "2e966819-6b8e-4e09-8b7f-dda60fb22dc0",
   "metadata": {},
   "outputs": [
    {
     "data": {
      "text/plain": [
       "(tensor(3.), tensor(4., requires_grad=True), tensor(5., requires_grad=True))"
      ]
     },
     "execution_count": 7,
     "metadata": {},
     "output_type": "execute_result"
    }
   ],
   "source": [
    "x=torch.tensor(3.)\n",
    "w=torch.tensor(4.,requires_grad=True)\n",
    "b=torch.tensor(5.,requires_grad=True)\n",
    "x,w,b"
   ]
  },
  {
   "cell_type": "code",
   "execution_count": 8,
   "id": "69760683-0592-4684-b35e-1dd0b0bba030",
   "metadata": {},
   "outputs": [
    {
     "data": {
      "text/plain": [
       "tensor(17., grad_fn=<AddBackward0>)"
      ]
     },
     "execution_count": 8,
     "metadata": {},
     "output_type": "execute_result"
    }
   ],
   "source": [
    "#  compute the linear Ligression\n",
    "\n",
    "y=w*x+b\n",
    "y"
   ]
  },
  {
   "cell_type": "code",
   "execution_count": 9,
   "id": "777e6e81-b77d-4103-bac7-93a27f6b0e77",
   "metadata": {},
   "outputs": [],
   "source": [
    "# COMPUTE THR derivative\n",
    "\n",
    "y.backward()"
   ]
  },
  {
   "cell_type": "code",
   "execution_count": 10,
   "id": "23ff0b4f-56be-45ac-8a9b-8ca115fb9dec",
   "metadata": {},
   "outputs": [
    {
     "name": "stdout",
     "output_type": "stream",
     "text": [
      "dy/dx None\n",
      "dy/dw tensor(3.)\n",
      "dy/db tensor(1.)\n"
     ]
    }
   ],
   "source": [
    "print('dy/dx',x.grad)\n",
    "print('dy/dw',w.grad)\n",
    "print('dy/db',b.grad)"
   ]
  },
  {
   "cell_type": "code",
   "execution_count": 11,
   "id": "609ba988-df8f-4879-95ed-8d304a647dfc",
   "metadata": {},
   "outputs": [
    {
     "data": {
      "text/plain": [
       "tensor([[47, 47, 47, 47, 47, 47, 47, 47],\n",
       "        [47, 47, 47, 47, 47, 47, 47, 47],\n",
       "        [47, 47, 47, 47, 47, 47, 47, 47],\n",
       "        [47, 47, 47, 47, 47, 47, 47, 47],\n",
       "        [47, 47, 47, 47, 47, 47, 47, 47],\n",
       "        [47, 47, 47, 47, 47, 47, 47, 47],\n",
       "        [47, 47, 47, 47, 47, 47, 47, 47],\n",
       "        [47, 47, 47, 47, 47, 47, 47, 47],\n",
       "        [47, 47, 47, 47, 47, 47, 47, 47],\n",
       "        [47, 47, 47, 47, 47, 47, 47, 47],\n",
       "        [47, 47, 47, 47, 47, 47, 47, 47],\n",
       "        [47, 47, 47, 47, 47, 47, 47, 47],\n",
       "        [47, 47, 47, 47, 47, 47, 47, 47],\n",
       "        [47, 47, 47, 47, 47, 47, 47, 47],\n",
       "        [47, 47, 47, 47, 47, 47, 47, 47],\n",
       "        [47, 47, 47, 47, 47, 47, 47, 47],\n",
       "        [47, 47, 47, 47, 47, 47, 47, 47],\n",
       "        [47, 47, 47, 47, 47, 47, 47, 47],\n",
       "        [47, 47, 47, 47, 47, 47, 47, 47],\n",
       "        [47, 47, 47, 47, 47, 47, 47, 47],\n",
       "        [47, 47, 47, 47, 47, 47, 47, 47],\n",
       "        [47, 47, 47, 47, 47, 47, 47, 47],\n",
       "        [47, 47, 47, 47, 47, 47, 47, 47],\n",
       "        [47, 47, 47, 47, 47, 47, 47, 47],\n",
       "        [47, 47, 47, 47, 47, 47, 47, 47],\n",
       "        [47, 47, 47, 47, 47, 47, 47, 47],\n",
       "        [47, 47, 47, 47, 47, 47, 47, 47],\n",
       "        [47, 47, 47, 47, 47, 47, 47, 47],\n",
       "        [47, 47, 47, 47, 47, 47, 47, 47],\n",
       "        [47, 47, 47, 47, 47, 47, 47, 47],\n",
       "        [47, 47, 47, 47, 47, 47, 47, 47],\n",
       "        [47, 47, 47, 47, 47, 47, 47, 47],\n",
       "        [47, 47, 47, 47, 47, 47, 47, 47],\n",
       "        [47, 47, 47, 47, 47, 47, 47, 47],\n",
       "        [47, 47, 47, 47, 47, 47, 47, 47],\n",
       "        [47, 47, 47, 47, 47, 47, 47, 47],\n",
       "        [47, 47, 47, 47, 47, 47, 47, 47],\n",
       "        [47, 47, 47, 47, 47, 47, 47, 47],\n",
       "        [47, 47, 47, 47, 47, 47, 47, 47],\n",
       "        [47, 47, 47, 47, 47, 47, 47, 47],\n",
       "        [47, 47, 47, 47, 47, 47, 47, 47],\n",
       "        [47, 47, 47, 47, 47, 47, 47, 47],\n",
       "        [47, 47, 47, 47, 47, 47, 47, 47],\n",
       "        [47, 47, 47, 47, 47, 47, 47, 47],\n",
       "        [47, 47, 47, 47, 47, 47, 47, 47],\n",
       "        [47, 47, 47, 47, 47, 47, 47, 47],\n",
       "        [47, 47, 47, 47, 47, 47, 47, 47],\n",
       "        [47, 47, 47, 47, 47, 47, 47, 47],\n",
       "        [47, 47, 47, 47, 47, 47, 47, 47],\n",
       "        [47, 47, 47, 47, 47, 47, 47, 47],\n",
       "        [47, 47, 47, 47, 47, 47, 47, 47],\n",
       "        [47, 47, 47, 47, 47, 47, 47, 47],\n",
       "        [47, 47, 47, 47, 47, 47, 47, 47],\n",
       "        [47, 47, 47, 47, 47, 47, 47, 47],\n",
       "        [47, 47, 47, 47, 47, 47, 47, 47],\n",
       "        [47, 47, 47, 47, 47, 47, 47, 47],\n",
       "        [47, 47, 47, 47, 47, 47, 47, 47],\n",
       "        [47, 47, 47, 47, 47, 47, 47, 47],\n",
       "        [47, 47, 47, 47, 47, 47, 47, 47],\n",
       "        [47, 47, 47, 47, 47, 47, 47, 47],\n",
       "        [47, 47, 47, 47, 47, 47, 47, 47],\n",
       "        [47, 47, 47, 47, 47, 47, 47, 47],\n",
       "        [47, 47, 47, 47, 47, 47, 47, 47],\n",
       "        [47, 47, 47, 47, 47, 47, 47, 47],\n",
       "        [47, 47, 47, 47, 47, 47, 47, 47],\n",
       "        [47, 47, 47, 47, 47, 47, 47, 47],\n",
       "        [47, 47, 47, 47, 47, 47, 47, 47],\n",
       "        [47, 47, 47, 47, 47, 47, 47, 47],\n",
       "        [47, 47, 47, 47, 47, 47, 47, 47],\n",
       "        [47, 47, 47, 47, 47, 47, 47, 47],\n",
       "        [47, 47, 47, 47, 47, 47, 47, 47],\n",
       "        [47, 47, 47, 47, 47, 47, 47, 47],\n",
       "        [47, 47, 47, 47, 47, 47, 47, 47],\n",
       "        [47, 47, 47, 47, 47, 47, 47, 47],\n",
       "        [47, 47, 47, 47, 47, 47, 47, 47],\n",
       "        [47, 47, 47, 47, 47, 47, 47, 47],\n",
       "        [47, 47, 47, 47, 47, 47, 47, 47],\n",
       "        [47, 47, 47, 47, 47, 47, 47, 47],\n",
       "        [47, 47, 47, 47, 47, 47, 47, 47],\n",
       "        [47, 47, 47, 47, 47, 47, 47, 47],\n",
       "        [47, 47, 47, 47, 47, 47, 47, 47],\n",
       "        [47, 47, 47, 47, 47, 47, 47, 47],\n",
       "        [47, 47, 47, 47, 47, 47, 47, 47],\n",
       "        [47, 47, 47, 47, 47, 47, 47, 47],\n",
       "        [47, 47, 47, 47, 47, 47, 47, 47],\n",
       "        [47, 47, 47, 47, 47, 47, 47, 47],\n",
       "        [47, 47, 47, 47, 47, 47, 47, 47],\n",
       "        [47, 47, 47, 47, 47, 47, 47, 47],\n",
       "        [47, 47, 47, 47, 47, 47, 47, 47]])"
      ]
     },
     "execution_count": 11,
     "metadata": {},
     "output_type": "execute_result"
    }
   ],
   "source": [
    "# compute the a tensor a fixed for every element\n",
    "t6=torch.full((89,8),47)\n",
    "t6\n",
    "#  full((row,colom),value)"
   ]
  },
  {
   "cell_type": "markdown",
   "id": "38b71b4a-01ea-42da-9d37-c3479bfc28ae",
   "metadata": {},
   "source": [
    "NUMPY<PANDAS, Matplotlib OpenCv"
   ]
  },
  {
   "cell_type": "code",
   "execution_count": 12,
   "id": "dafb90e9-be09-49d3-b57b-1b73c5c4e3e7",
   "metadata": {},
   "outputs": [],
   "source": [
    "import numpy as np\n"
   ]
  },
  {
   "cell_type": "code",
   "execution_count": 13,
   "id": "27d701e9-3961-4d73-b2fc-27c395809763",
   "metadata": {},
   "outputs": [
    {
     "data": {
      "text/plain": [
       "array([1, 2, 3, 4])"
      ]
     },
     "execution_count": 13,
     "metadata": {},
     "output_type": "execute_result"
    }
   ],
   "source": [
    "x=np.array([1,2,3,4])\n",
    "x"
   ]
  },
  {
   "cell_type": "code",
   "execution_count": 14,
   "id": "49eca009-6de6-46df-8692-d19981de2390",
   "metadata": {},
   "outputs": [
    {
     "data": {
      "text/plain": [
       "tensor([1, 2, 3, 4], dtype=torch.int32)"
      ]
     },
     "execution_count": 14,
     "metadata": {},
     "output_type": "execute_result"
    }
   ],
   "source": [
    "y=torch.from_numpy(x)\n",
    "y"
   ]
  },
  {
   "cell_type": "code",
   "execution_count": 15,
   "id": "5af9833e-3fc2-4734-81ac-4dcb44edf85c",
   "metadata": {},
   "outputs": [
    {
     "data": {
      "text/plain": [
       "torch.int32"
      ]
     },
     "execution_count": 15,
     "metadata": {},
     "output_type": "execute_result"
    }
   ],
   "source": [
    "y.dtype\n"
   ]
  },
  {
   "cell_type": "code",
   "execution_count": 16,
   "id": "39eebf8f-7d44-41b2-8a66-874aa9884c63",
   "metadata": {},
   "outputs": [
    {
     "data": {
      "text/plain": [
       "array([1, 2, 3, 4])"
      ]
     },
     "execution_count": 16,
     "metadata": {},
     "output_type": "execute_result"
    }
   ],
   "source": [
    "z=y.numpy()\n",
    "z"
   ]
  },
  {
   "cell_type": "markdown",
   "id": "a4ab3d20-d811-4756-9315-1ae993302ccf",
   "metadata": {},
   "source": [
    "                                                0 to Linear Regression && Gradient Desent\n",
    "                                                \n"
   ]
  },
  {
   "cell_type": "code",
   "execution_count": 17,
   "id": "0c4b4920-85e2-40a9-b855-3ca7ec8a39b2",
   "metadata": {},
   "outputs": [
    {
     "data": {
      "text/plain": [
       "array([[ 73.,  67.,  43.],\n",
       "       [ 91.,  88.,  64.],\n",
       "       [ 87., 134.,  58.],\n",
       "       [102.,  43.,  37.],\n",
       "       [ 69.,  96.,  70.]], dtype=float32)"
      ]
     },
     "execution_count": 17,
     "metadata": {},
     "output_type": "execute_result"
    }
   ],
   "source": [
    "# inpute (tem,rain,hunimidty)\n",
    "inputs=np.array([[73.,67,43],\n",
    "                 [91,88,64],\n",
    "                 [87,134,58],\n",
    "                 [102,43,37],\n",
    "                 [69,96,70]],dtype='float32')\n",
    "inputs\n",
    "                "
   ]
  },
  {
   "cell_type": "code",
   "execution_count": 18,
   "id": "56e3acd2-bad7-4a61-81ed-a5800dd337fd",
   "metadata": {},
   "outputs": [
    {
     "data": {
      "text/plain": [
       "array([[ 56.,  70.],\n",
       "       [ 81., 101.],\n",
       "       [119., 133.],\n",
       "       [ 22.,  37.],\n",
       "       [103., 119.]], dtype=float32)"
      ]
     },
     "execution_count": 18,
     "metadata": {},
     "output_type": "execute_result"
    }
   ],
   "source": [
    "# input the tergets (apple,orrange)\n",
    "tergets=np.array([[56,70],\n",
    "                  [81,101],\n",
    "                  [119,133],\n",
    "                  [22,37],\n",
    "                  [103,119]],dtype='float32')\n",
    "tergets"
   ]
  },
  {
   "cell_type": "code",
   "execution_count": 19,
   "id": "9691dfa9-4405-40c4-a008-1e88ad4989d5",
   "metadata": {},
   "outputs": [
    {
     "name": "stdout",
     "output_type": "stream",
     "text": [
      "tensor([[ 73.,  67.,  43.],\n",
      "        [ 91.,  88.,  64.],\n",
      "        [ 87., 134.,  58.],\n",
      "        [102.,  43.,  37.],\n",
      "        [ 69.,  96.,  70.]])\n",
      "tensor([[ 56.,  70.],\n",
      "        [ 81., 101.],\n",
      "        [119., 133.],\n",
      "        [ 22.,  37.],\n",
      "        [103., 119.]])\n"
     ]
    }
   ],
   "source": [
    "# convert the numpyt to torch\n",
    "inputs=torch.from_numpy(inputs)\n",
    "tergets=torch.from_numpy(tergets)\n",
    "print(inputs)\n",
    "print(tergets)"
   ]
  },
  {
   "cell_type": "markdown",
   "id": "9b218168-9ae0-4186-a2f8-f6eef203807a",
   "metadata": {},
   "source": [
    "To Create Linear Ligressinon Model"
   ]
  },
  {
   "cell_type": "code",
   "execution_count": 20,
   "id": "dd01ba44-b308-42b0-8577-dfe6c356e7db",
   "metadata": {},
   "outputs": [
    {
     "name": "stdout",
     "output_type": "stream",
     "text": [
      "tensor([[-1.5800,  0.0273,  1.2722],\n",
      "        [-0.0032, -0.3089,  2.1176]], requires_grad=True)\n",
      "tensor([-2.6553,  0.9675], requires_grad=True)\n"
     ]
    }
   ],
   "source": [
    "# wight and bais\n",
    "w=torch.randn(2,3,requires_grad=True)\n",
    "b=torch.randn(2,requires_grad=True)\n",
    "print(w)\n",
    "print(b)"
   ]
  },
  {
   "cell_type": "code",
   "execution_count": 21,
   "id": "26e8bc48-ce99-429e-9a05-a0ca635e36e5",
   "metadata": {},
   "outputs": [
    {
     "data": {
      "text/plain": [
       "tensor([[ 73.,  67.,  43.],\n",
       "        [ 91.,  88.,  64.],\n",
       "        [ 87., 134.,  58.],\n",
       "        [102.,  43.,  37.],\n",
       "        [ 69.,  96.,  70.]])"
      ]
     },
     "execution_count": 21,
     "metadata": {},
     "output_type": "execute_result"
    }
   ],
   "source": [
    "inputs"
   ]
  },
  {
   "cell_type": "code",
   "execution_count": 22,
   "id": "d25dd473-8765-4675-9a76-09b7914fd01d",
   "metadata": {},
   "outputs": [
    {
     "data": {
      "text/plain": [
       "tensor([[ -61.4649,   71.0936],\n",
       "        [ -62.6167,  109.0182],\n",
       "        [ -62.6753,   82.1171],\n",
       "        [-115.5722,   65.7083],\n",
       "        [ -20.0056,  119.3232]], grad_fn=<AddBackward0>)"
      ]
     },
     "execution_count": 22,
     "metadata": {},
     "output_type": "execute_result"
    }
   ],
   "source": [
    "inputs@ w.t()+b"
   ]
  },
  {
   "cell_type": "code",
   "execution_count": 23,
   "id": "245d1e39-1e89-4b2e-bc66-d03df18388db",
   "metadata": {},
   "outputs": [],
   "source": [
    "# Define the model\n",
    "def model (x):\n",
    "    return x@ w.t()+b"
   ]
  },
  {
   "cell_type": "code",
   "execution_count": 24,
   "id": "b48f90b4-cb70-4df9-8ff8-730bb897ce50",
   "metadata": {},
   "outputs": [
    {
     "name": "stdout",
     "output_type": "stream",
     "text": [
      "tensor([[ -61.4649,   71.0936],\n",
      "        [ -62.6167,  109.0182],\n",
      "        [ -62.6753,   82.1171],\n",
      "        [-115.5722,   65.7083],\n",
      "        [ -20.0056,  119.3232]], grad_fn=<AddBackward0>)\n"
     ]
    }
   ],
   "source": [
    "pred=model(inputs)\n",
    "print(pred)"
   ]
  },
  {
   "cell_type": "code",
   "execution_count": 25,
   "id": "d0217924-71ed-40b4-a93a-6ee442d2a243",
   "metadata": {},
   "outputs": [
    {
     "name": "stdout",
     "output_type": "stream",
     "text": [
      "tensor([[ 56.,  70.],\n",
      "        [ 81., 101.],\n",
      "        [119., 133.],\n",
      "        [ 22.,  37.],\n",
      "        [103., 119.]])\n"
     ]
    }
   ],
   "source": [
    "# print the tergets\n",
    "print(tergets)"
   ]
  },
  {
   "cell_type": "code",
   "execution_count": 26,
   "id": "af7a8eae-2f6e-452b-af0c-4bcb9489cad3",
   "metadata": {},
   "outputs": [
    {
     "data": {
      "text/plain": [
       "tensor(10496.4971, grad_fn=<DivBackward0>)"
      ]
     },
     "execution_count": 26,
     "metadata": {},
     "output_type": "execute_result"
    }
   ],
   "source": [
    "diff=pred-tergets\n",
    "torch.sum(diff*diff)/diff.numel()"
   ]
  },
  {
   "cell_type": "markdown",
   "id": "67ac475a-1509-4199-a8dc-bab84e309fc8",
   "metadata": {},
   "source": [
    "Loss Funtion\n",
    "1. Calculate the differetn between predict and tergets\n",
    "2. Squer Every elemet and remove the nagative form\n",
    "3. calculte the avarege of the element in the resulting matrix"
   ]
  },
  {
   "cell_type": "code",
   "execution_count": 27,
   "id": "347b1a8e-8dc0-4b30-983a-3e4fbab2286f",
   "metadata": {},
   "outputs": [],
   "source": [
    "# MSE\n",
    "def mse(t1,t2):\n",
    "    diff=t1-t2\n",
    "    \n",
    "    return torch.sum(diff*diff)/diff.numel()\n",
    "        "
   ]
  },
  {
   "cell_type": "code",
   "execution_count": 28,
   "id": "fdcd4039-ab61-41fc-9a89-8cb677e54ba9",
   "metadata": {},
   "outputs": [
    {
     "name": "stdout",
     "output_type": "stream",
     "text": [
      "tensor(10496.4971, grad_fn=<DivBackward0>)\n"
     ]
    }
   ],
   "source": [
    "loss=mse(pred,tergets)\n",
    "print(loss)"
   ]
  },
  {
   "cell_type": "markdown",
   "id": "ddfbc366-4ad6-4a8b-a86d-ebb9f9413af6",
   "metadata": {},
   "source": [
    "Now Compute the gradient desent \n",
    "\n",
    "1.with pyTorch ,we can automatically comput the becouse from the  requires_grad=True value\n",
    "2."
   ]
  },
  {
   "cell_type": "code",
   "execution_count": 29,
   "id": "98f091ba-7ca3-49bb-9361-c5f8f3d65004",
   "metadata": {},
   "outputs": [],
   "source": [
    "loss.backward()"
   ]
  },
  {
   "cell_type": "code",
   "execution_count": 30,
   "id": "4b693500-18f9-4f28-85d3-382c1a342806",
   "metadata": {},
   "outputs": [
    {
     "name": "stdout",
     "output_type": "stream",
     "text": [
      "tensor([[-1.5800,  0.0273,  1.2722],\n",
      "        [-0.0032, -0.3089,  2.1176]], requires_grad=True)\n",
      "tensor([[-11993.9102, -12515.4102,  -7696.0376],\n",
      "        [  -133.3546,   -954.7895,   -261.2372]])\n"
     ]
    }
   ],
   "source": [
    "print(w)\n",
    "print(w.grad)"
   ]
  },
  {
   "cell_type": "code",
   "execution_count": 31,
   "id": "523de95e-82f1-49f4-901f-58d4cd575106",
   "metadata": {},
   "outputs": [
    {
     "name": "stdout",
     "output_type": "stream",
     "text": [
      "tensor([[-1.5800,  0.0273,  1.2722],\n",
      "        [-0.0032, -0.3089,  2.1176]], requires_grad=True)\n"
     ]
    },
    {
     "data": {
      "text/plain": [
       "tensor([[-11993.9102, -12515.4102,  -7696.0376],\n",
       "        [  -133.3546,   -954.7895,   -261.2372]])"
      ]
     },
     "execution_count": 31,
     "metadata": {},
     "output_type": "execute_result"
    }
   ],
   "source": [
    "print(w)\n",
    "w.grad"
   ]
  },
  {
   "cell_type": "code",
   "execution_count": 32,
   "id": "15b8efd6-1908-4d3b-a60b-70a4f71564e8",
   "metadata": {},
   "outputs": [],
   "source": [
    "with torch.no_grad():\n",
    "    w-=w.grad*1e-5\n",
    "    b-=b.grad*1e-5"
   ]
  },
  {
   "cell_type": "code",
   "execution_count": 33,
   "id": "524dd358-721e-4ed1-b656-5f66477eec54",
   "metadata": {},
   "outputs": [
    {
     "data": {
      "text/plain": [
       "(tensor([[-1.4601e+00,  1.5242e-01,  1.3491e+00],\n",
       "         [-1.8752e-03, -2.9933e-01,  2.1202e+00]], requires_grad=True),\n",
       " tensor([-2.6539,  0.9675], requires_grad=True))"
      ]
     },
     "execution_count": 33,
     "metadata": {},
     "output_type": "execute_result"
    }
   ],
   "source": [
    "w,b"
   ]
  },
  {
   "cell_type": "code",
   "execution_count": 34,
   "id": "3db4063d-a8fb-4e2c-8101-fe3b5c6e0eb2",
   "metadata": {},
   "outputs": [
    {
     "name": "stdout",
     "output_type": "stream",
     "text": [
      "tensor(7211.8296, grad_fn=<DivBackward0>)\n"
     ]
    }
   ],
   "source": [
    "# now verify the loss is actually lower\n",
    "pred=model(inputs)\n",
    "\n",
    "loss=mse(pred,tergets)\n",
    "print(loss)"
   ]
  },
  {
   "cell_type": "code",
   "execution_count": 35,
   "id": "5cc045c8-a954-4ff5-9918-3a8fcbed73d4",
   "metadata": {},
   "outputs": [
    {
     "name": "stdout",
     "output_type": "stream",
     "text": [
      "tensor([[0., 0., 0.],\n",
      "        [0., 0., 0.]])\n",
      "tensor([0., 0.])\n"
     ]
    }
   ],
   "source": [
    "w.grad.zero_()\n",
    "b.grad.zero_()\n",
    "print(w.grad)\n",
    "print(b.grad)"
   ]
  },
  {
   "cell_type": "markdown",
   "id": "38a21835-c524-4a47-b01d-2a10ea6afa48",
   "metadata": {},
   "source": [
    "Train the model using gradient desecent\n",
    "\n",
    "1. Generate the predictions\n",
    "2. claculte the loss\n",
    "3. compute the gradient w.r.t W and B\n",
    "4. Adjust the W by substracting a small quantity proportional to the gradient\n",
    "5. Reset the Gredient to Zero"
   ]
  },
  {
   "cell_type": "code",
   "execution_count": 36,
   "id": "f353cb78-c18f-4422-9ba7-cdcda79ad28b",
   "metadata": {},
   "outputs": [
    {
     "name": "stdout",
     "output_type": "stream",
     "text": [
      "tensor([[-41.0133,  71.9430],\n",
      "        [-35.7618, 110.1470],\n",
      "        [-31.0049,  83.6641],\n",
      "        [-95.1078,  66.3516],\n",
      "        [  5.6736, 120.5147]], grad_fn=<AddBackward0>)\n"
     ]
    }
   ],
   "source": [
    "# Step 1\n",
    "#  generate prediction\n",
    "pred=model(inputs)\n",
    "print(pred)"
   ]
  },
  {
   "cell_type": "code",
   "execution_count": 37,
   "id": "13cb6fb0-ce34-4f89-8960-4a3732d3b46a",
   "metadata": {},
   "outputs": [
    {
     "name": "stdout",
     "output_type": "stream",
     "text": [
      "tensor(7211.8296, grad_fn=<DivBackward0>)\n"
     ]
    }
   ],
   "source": [
    "# step 2\n",
    "# compute the loss fucntion\n",
    "loss=mse(pred,tergets)\n",
    "print(loss)"
   ]
  },
  {
   "cell_type": "code",
   "execution_count": 38,
   "id": "95061e9e-56f8-4905-a030-8434a826f11b",
   "metadata": {},
   "outputs": [
    {
     "name": "stdout",
     "output_type": "stream",
     "text": [
      "tensor([[ -9883.6465, -10250.9092,  -6298.0889],\n",
      "        [   -43.9266,   -853.6731,   -200.0978]])\n",
      "tensor([-115.6428,   -1.4759])\n"
     ]
    }
   ],
   "source": [
    "# Step 3\n",
    "# compute the gradient desecent\n",
    "loss.backward()\n",
    "print(w.grad)\n",
    "print(b.grad)\n"
   ]
  },
  {
   "cell_type": "code",
   "execution_count": 39,
   "id": "c6e5e08d-1514-44b9-bf9d-929631840e0d",
   "metadata": {},
   "outputs": [],
   "source": [
    "# Step 3\n",
    "# Adjust the Wight and biases\n",
    "with torch.no_grad():\n",
    "\n",
    "    w-=w.grad * 1e-5\n",
    "    b-=b.grad * 1e-5\n",
    "    w.grad.zero_()\n",
    "    b.grad.zero_()"
   ]
  },
  {
   "cell_type": "code",
   "execution_count": 40,
   "id": "a3428a16-482c-4317-8cc8-40ffb8ddcb34",
   "metadata": {},
   "outputs": [
    {
     "name": "stdout",
     "output_type": "stream",
     "text": [
      "tensor([[-1.3612e+00,  2.5493e-01,  1.4121e+00],\n",
      "        [-1.4359e-03, -2.9080e-01,  2.1222e+00]], requires_grad=True)\n",
      "tensor([-2.6528,  0.9676], requires_grad=True)\n"
     ]
    }
   ],
   "source": [
    "print(w)\n",
    "print(b)"
   ]
  },
  {
   "cell_type": "code",
   "execution_count": 41,
   "id": "467e8bfa-b8e7-4a01-a8fa-83b059c336ee",
   "metadata": {},
   "outputs": [
    {
     "name": "stdout",
     "output_type": "stream",
     "text": [
      "tensor(4997.1138, grad_fn=<DivBackward0>)\n"
     ]
    }
   ],
   "source": [
    "# calculete the loss\n",
    "pred=model(inputs)\n",
    "loss=mse(pred,tergets)\n",
    "print(loss)"
   ]
  },
  {
   "cell_type": "markdown",
   "id": "aa153044-e5c5-40cf-8367-95dabd0f4a67",
   "metadata": {},
   "source": [
    "Train for Muliple epochs"
   ]
  },
  {
   "cell_type": "code",
   "execution_count": 42,
   "id": "f6e2b477-89d7-4f14-8ede-3af1de36d96b",
   "metadata": {},
   "outputs": [],
   "source": [
    "# train for 100 epochs\n",
    "\n",
    "for i in range(50):\n",
    "    pred=model(inputs)\n",
    "    loss=mse(pred,tergets)\n",
    "    loss.backward()\n",
    "    with torch.no_grad():\n",
    "        w-=w.grad * 1e-5\n",
    "        b-=b.grad * 1e-5\n",
    "        w.grad.zero_()\n",
    "        b.grad.zero_()\n",
    "    "
   ]
  },
  {
   "cell_type": "code",
   "execution_count": 43,
   "id": "fa1fce49-e9fe-4d64-baff-8cad49fadd8a",
   "metadata": {},
   "outputs": [
    {
     "name": "stdout",
     "output_type": "stream",
     "text": [
      "tensor(283.7984, grad_fn=<DivBackward0>)\n"
     ]
    }
   ],
   "source": [
    "# calculete the losss\n",
    "pred=model(inputs)\n",
    "loss=mse(pred,tergets)\n",
    "print(loss)"
   ]
  },
  {
   "cell_type": "code",
   "execution_count": 44,
   "id": "2881b2c6-0f7f-4d87-afdb-b10cbde4a223",
   "metadata": {},
   "outputs": [
    {
     "data": {
      "text/plain": [
       "tensor([[ 53.5597,  74.2218],\n",
       "        [ 87.6347, 113.6230],\n",
       "        [112.1121,  97.2112],\n",
       "        [  3.5120,  59.8570],\n",
       "        [121.0955, 128.5326]], grad_fn=<AddBackward0>)"
      ]
     },
     "execution_count": 44,
     "metadata": {},
     "output_type": "execute_result"
    }
   ],
   "source": [
    "pred"
   ]
  },
  {
   "cell_type": "code",
   "execution_count": 45,
   "id": "4fa103da-b168-4c3d-b279-8a138e27664f",
   "metadata": {},
   "outputs": [
    {
     "data": {
      "text/plain": [
       "tensor([[ 56.,  70.],\n",
       "        [ 81., 101.],\n",
       "        [119., 133.],\n",
       "        [ 22.,  37.],\n",
       "        [103., 119.]])"
      ]
     },
     "execution_count": 45,
     "metadata": {},
     "output_type": "execute_result"
    }
   ],
   "source": [
    "tergets"
   ]
  },
  {
   "cell_type": "markdown",
   "id": "4d9345db-af66-49dd-8e62-a603e3a730c9",
   "metadata": {},
   "source": [
    "Linear Regrassion Uing built funciton in PyTorch"
   ]
  },
  {
   "cell_type": "code",
   "execution_count": 46,
   "id": "2698f905-7505-4f49-9176-5cb5d2433e00",
   "metadata": {},
   "outputs": [],
   "source": [
    "import torch.nn as nn"
   ]
  },
  {
   "cell_type": "code",
   "execution_count": 47,
   "id": "6fefa229-900e-4029-8f8f-d98de0ef5e4a",
   "metadata": {},
   "outputs": [],
   "source": [
    "# inpute (tem,rain,hunimidty)\n",
    "inputs=np.array([[73.,67,43],\n",
    "                 [91,88,64],\n",
    "                 [87,134,58],\n",
    "                 [102,43,37],\n",
    "                 [69,96,70]],dtype='float32')\n",
    "\n",
    "# input the tergets (apple,orrange)\n",
    "tergets=np.array([[56,70],\n",
    "                  [81,101],\n",
    "                  [119,133],\n",
    "                  [22,37],\n",
    "                  [103,119]],dtype='float32')\n",
    "inputs=torch.from_numpy(inputs)\n",
    "tergets=torch.from_numpy(tergets)\n",
    "\n"
   ]
  },
  {
   "cell_type": "code",
   "execution_count": 48,
   "id": "eec7194a-efc9-4dbb-8358-b5f31e47782f",
   "metadata": {},
   "outputs": [
    {
     "data": {
      "text/plain": [
       "tensor([[ 73.,  67.,  43.],\n",
       "        [ 91.,  88.,  64.],\n",
       "        [ 87., 134.,  58.],\n",
       "        [102.,  43.,  37.],\n",
       "        [ 69.,  96.,  70.]])"
      ]
     },
     "execution_count": 48,
     "metadata": {},
     "output_type": "execute_result"
    }
   ],
   "source": [
    "inputs"
   ]
  },
  {
   "cell_type": "code",
   "execution_count": 49,
   "id": "0b21cba7-2031-4de8-99b6-971b464e4c3a",
   "metadata": {},
   "outputs": [
    {
     "data": {
      "text/plain": [
       "tensor([[ 56.,  70.],\n",
       "        [ 81., 101.],\n",
       "        [119., 133.],\n",
       "        [ 22.,  37.],\n",
       "        [103., 119.]])"
      ]
     },
     "execution_count": 49,
     "metadata": {},
     "output_type": "execute_result"
    }
   ],
   "source": [
    "tergets"
   ]
  },
  {
   "cell_type": "code",
   "execution_count": 50,
   "id": "5388ed80-66df-4da9-ad14-4f64670594c1",
   "metadata": {},
   "outputs": [],
   "source": [
    "from torch.utils.data import TensorDataset"
   ]
  },
  {
   "cell_type": "code",
   "execution_count": 51,
   "id": "767d9647-e45b-48e9-8fbd-a936349e533c",
   "metadata": {},
   "outputs": [
    {
     "data": {
      "text/plain": [
       "(tensor([[ 73.,  67.,  43.],\n",
       "         [ 91.,  88.,  64.],\n",
       "         [ 87., 134.,  58.]]),\n",
       " tensor([[ 56.,  70.],\n",
       "         [ 81., 101.],\n",
       "         [119., 133.]]))"
      ]
     },
     "execution_count": 51,
     "metadata": {},
     "output_type": "execute_result"
    }
   ],
   "source": [
    "# define the dataset\n",
    "\n",
    "train_ds=TensorDataset(inputs,tergets)\n",
    "train_ds[0:3]"
   ]
  },
  {
   "cell_type": "code",
   "execution_count": 52,
   "id": "8fa9833b-eac9-4484-aa9e-70c8073edcdb",
   "metadata": {},
   "outputs": [],
   "source": [
    "from torch.utils.data import DataLoader"
   ]
  },
  {
   "cell_type": "code",
   "execution_count": 53,
   "id": "d62c762b-4d6e-4643-89cb-5a5a9f95421a",
   "metadata": {},
   "outputs": [],
   "source": [
    "# define the data loader\n",
    "batch_size=5\n",
    "train_dl=DataLoader(train_ds,batch_size,shuffle=True)"
   ]
  },
  {
   "cell_type": "code",
   "execution_count": 54,
   "id": "0cc14f10-2433-497e-838e-0966497d2608",
   "metadata": {},
   "outputs": [
    {
     "name": "stdout",
     "output_type": "stream",
     "text": [
      "tensor([[ 69.,  96.,  70.],\n",
      "        [ 87., 134.,  58.],\n",
      "        [ 91.,  88.,  64.],\n",
      "        [102.,  43.,  37.],\n",
      "        [ 73.,  67.,  43.]])\n",
      "tensor([[103., 119.],\n",
      "        [119., 133.],\n",
      "        [ 81., 101.],\n",
      "        [ 22.,  37.],\n",
      "        [ 56.,  70.]])\n"
     ]
    }
   ],
   "source": [
    "for xb,yb in train_dl:\n",
    "    print(xb)\n",
    "    print(yb)\n",
    "    break"
   ]
  },
  {
   "cell_type": "markdown",
   "id": "3895f591-268f-4cbf-8f6e-1dd62a930d00",
   "metadata": {},
   "source": [
    "NN. linear"
   ]
  },
  {
   "cell_type": "code",
   "execution_count": 58,
   "id": "1ab8f4f8-78d1-4824-87dd-0d8a947c2dbd",
   "metadata": {},
   "outputs": [
    {
     "name": "stdout",
     "output_type": "stream",
     "text": [
      "Parameter containing:\n",
      "tensor([[-0.0058, -0.3227, -0.2524],\n",
      "        [-0.2465, -0.5691, -0.1952]], requires_grad=True)\n",
      "Parameter containing:\n",
      "tensor([0.2604, 0.4660], requires_grad=True)\n"
     ]
    }
   ],
   "source": [
    "# defien the model\n",
    "\n",
    "model=nn.Linear(3,2)\n",
    "print(model.weight)\n",
    "print(model.bias)"
   ]
  },
  {
   "cell_type": "code",
   "execution_count": 61,
   "id": "ac1e982c-3997-41cc-8786-94381f65bc66",
   "metadata": {},
   "outputs": [
    {
     "data": {
      "text/plain": [
       "[Parameter containing:\n",
       " tensor([[-0.0058, -0.3227, -0.2524],\n",
       "         [-0.2465, -0.5691, -0.1952]], requires_grad=True),\n",
       " Parameter containing:\n",
       " tensor([0.2604, 0.4660], requires_grad=True)]"
      ]
     },
     "execution_count": 61,
     "metadata": {},
     "output_type": "execute_result"
    }
   ],
   "source": [
    "# Perametter\n",
    "\n",
    "list(model.parameters())"
   ]
  },
  {
   "cell_type": "code",
   "execution_count": 62,
   "id": "0ae7f226-c7f5-4c0c-a36c-0935a1dd0a1d",
   "metadata": {},
   "outputs": [
    {
     "data": {
      "text/plain": [
       "tensor([[ -32.6359,  -64.0537],\n",
       "        [ -44.8168,  -84.5415],\n",
       "        [ -58.1239, -108.5618],\n",
       "        [ -23.5447,  -56.3743],\n",
       "        [ -48.7852,  -84.8414]], grad_fn=<AddmmBackward0>)"
      ]
     },
     "execution_count": 62,
     "metadata": {},
     "output_type": "execute_result"
    }
   ],
   "source": [
    "# now compute the predict\n",
    "pred=model(inputs)\n",
    "pred"
   ]
  },
  {
   "cell_type": "code",
   "execution_count": 64,
   "id": "ac97c82f-de1f-4ae3-a2fa-5f20981f8a4c",
   "metadata": {},
   "outputs": [],
   "source": [
    "# compute the loss fucniton\n",
    "# first input the nn.funciton\n",
    "import torch.nn.functional as p"
   ]
  },
  {
   "cell_type": "code",
   "execution_count": 65,
   "id": "9d577e7c-1739-45b4-8377-2b8a9a8f6635",
   "metadata": {},
   "outputs": [],
   "source": [
    "# define the loss model\n",
    "loss_fs=p.mse_loss"
   ]
  },
  {
   "cell_type": "code",
   "execution_count": 66,
   "id": "3ba5eb6b-84bd-4fb6-b812-5dcf5074eb35",
   "metadata": {},
   "outputs": [
    {
     "name": "stdout",
     "output_type": "stream",
     "text": [
      "tensor(24119.0293, grad_fn=<MseLossBackward0>)\n"
     ]
    }
   ],
   "source": [
    "loss=loss_fs(model(inputs),tergets)\n",
    "print(loss)"
   ]
  },
  {
   "cell_type": "code",
   "execution_count": 68,
   "id": "0e93099f-3f57-4ac9-878e-94c9291a078a",
   "metadata": {},
   "outputs": [],
   "source": [
    "# ptimizer the loss\n",
    "# Gredient desecent\n",
    "opt=torch.optim.SGD(model.parameters(),lr=1e-5)"
   ]
  },
  {
   "cell_type": "markdown",
   "id": "8a254631-66d9-4f81-8f24-4ec6c5f7007c",
   "metadata": {},
   "source": [
    "Train the Model\n",
    "\n",
    "\n",
    "\n",
    "1.Generate the prediction.\n",
    "\n",
    "2.calcultete the loss fucntion\n",
    "\n",
    "3.compute the gradient desecent\n",
    "\n",
    "4.Adjust the wieght and by substrating as small quility proporstional to the gradient desent\n",
    "\n",
    "5.reset the gradeint to zero"
   ]
  },
  {
   "cell_type": "code",
   "execution_count": 69,
   "id": "a406f02e-343d-45dc-acb8-23e7d6368dfd",
   "metadata": {},
   "outputs": [],
   "source": [
    "# utility function to train the model\n",
    "\n",
    "def fit(num_epochs,model,loss_fs,opt,train_dl):\n",
    "    for epoch in range(num_epochs):\n",
    "        # train with batch of data\n",
    "        for xb,xy in train_dl:\n",
    "            # generate the prediction\n",
    "            pred=model(xb)\n",
    "            # 2.calcultet the loss\n",
    "            loss=loss_fs(pred,yb)\n",
    "            # 3. compute the gradient \n",
    "            loss.backward()\n",
    "            # 4. updatet hee peremeters\n",
    "            opt.step()\n",
    "            # 5. reset the gradient to zero\n",
    "            opt.zero_grad()\n",
    "        # print the progress\n",
    "        if(epoch+1)%10==0:\n",
    "            print('Epoch [{}/{}],loss: {:.4f}'.format(epoch+1,num_epochs,loss.item()))\n",
    "\n"
   ]
  },
  {
   "cell_type": "code",
   "execution_count": 71,
   "id": "231ad22f-4162-4329-99f6-3ce5dcc17028",
   "metadata": {},
   "outputs": [
    {
     "name": "stdout",
     "output_type": "stream",
     "text": [
      "Epoch [10/100],loss: 1694.5164\n",
      "Epoch [20/100],loss: 1600.8057\n",
      "Epoch [30/100],loss: 1145.3015\n",
      "Epoch [40/100],loss: 862.5938\n",
      "Epoch [50/100],loss: 835.8906\n",
      "Epoch [60/100],loss: 1242.4111\n",
      "Epoch [70/100],loss: 846.7591\n",
      "Epoch [80/100],loss: 1520.4089\n",
      "Epoch [90/100],loss: 843.4614\n",
      "Epoch [100/100],loss: 1521.8557\n"
     ]
    }
   ],
   "source": [
    "fit(100,model,loss_fs,opt,train_dl)"
   ]
  },
  {
   "cell_type": "code",
   "execution_count": 72,
   "id": "00a80c93-c041-43a7-855b-b3f578f2e565",
   "metadata": {},
   "outputs": [
    {
     "data": {
      "text/plain": [
       "tensor([[ 63.1325,  75.8005],\n",
       "        [ 80.9041,  98.8048],\n",
       "        [ 85.2411, 101.4493],\n",
       "        [ 76.2559,  89.2773],\n",
       "        [ 69.4516,  87.4386]], grad_fn=<AddmmBackward0>)"
      ]
     },
     "execution_count": 72,
     "metadata": {},
     "output_type": "execute_result"
    }
   ],
   "source": [
    "# generate the pred\n",
    "pred=model(inputs)\n",
    "pred"
   ]
  },
  {
   "cell_type": "code",
   "execution_count": 73,
   "id": "61a794f5-efdc-4e87-aafd-8aad7c741fe1",
   "metadata": {},
   "outputs": [
    {
     "data": {
      "text/plain": [
       "tensor([[ 56.,  70.],\n",
       "        [ 81., 101.],\n",
       "        [119., 133.],\n",
       "        [ 22.,  37.],\n",
       "        [103., 119.]])"
      ]
     },
     "execution_count": 73,
     "metadata": {},
     "output_type": "execute_result"
    }
   ],
   "source": [
    "# compute the terget\n",
    "tergets"
   ]
  },
  {
   "cell_type": "code",
   "execution_count": 76,
   "id": "b475b4ea-3151-4469-a1e2-2921acf9d770",
   "metadata": {},
   "outputs": [
    {
     "data": {
      "text/plain": [
       "tensor([[63.8518, 76.8526]], grad_fn=<AddmmBackward0>)"
      ]
     },
     "execution_count": 76,
     "metadata": {},
     "output_type": "execute_result"
    }
   ],
   "source": [
    "model(torch.tensor([[75,63,44.]]))"
   ]
  },
  {
   "cell_type": "code",
   "execution_count": null,
   "id": "c1d9225d-d361-4ad2-84f7-98a299c5e6ee",
   "metadata": {},
   "outputs": [],
   "source": []
  }
 ],
 "metadata": {
  "kernelspec": {
   "display_name": "Python 3 (ipykernel)",
   "language": "python",
   "name": "python3"
  },
  "language_info": {
   "codemirror_mode": {
    "name": "ipython",
    "version": 3
   },
   "file_extension": ".py",
   "mimetype": "text/x-python",
   "name": "python",
   "nbconvert_exporter": "python",
   "pygments_lexer": "ipython3",
   "version": "3.12.3"
  }
 },
 "nbformat": 4,
 "nbformat_minor": 5
}
